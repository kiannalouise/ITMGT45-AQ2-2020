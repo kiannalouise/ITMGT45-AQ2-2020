{
 "cells": [
  {
   "cell_type": "markdown",
   "metadata": {},
   "source": [
    "### Student Details\n",
    "1. 195448\n",
    "2. Zalameda\n",
    "3. 2 BS ITE"
   ]
  },
  {
   "cell_type": "code",
   "execution_count": 12,
   "metadata": {},
   "outputs": [],
   "source": [
    "def compute_average(firstnum, secondnum, thirdnum):\n",
    "    average = (firstnum + secondnum + thirdnum)/3\n",
    "    return average"
   ]
  },
  {
   "cell_type": "code",
   "execution_count": 15,
   "metadata": {},
   "outputs": [
    {
     "name": "stdout",
     "output_type": "stream",
     "text": [
      "Enter first number 4\n",
      "Enter second number 5\n",
      "Enter third number 5\n",
      "The average is  4.666666666666667\n"
     ]
    }
   ],
   "source": [
    "# Define first number\n",
    "firstnum = int(input(\"Enter first number \"))\n",
    "\n",
    "# Define second number\n",
    "secondnum = int(input(\"Enter second number \"))\n",
    "\n",
    "# Define third number\n",
    "thirdnum = int(input(\"Enter third number \"))\n",
    "\n",
    "# Compute for Average\n",
    "average = compute_average(firstnum, secondnum, thirdnum)\n",
    "\n",
    "# Display answer\n",
    "print(\"The average is \", average)"
   ]
  },
  {
   "cell_type": "code",
   "execution_count": null,
   "metadata": {},
   "outputs": [],
   "source": []
  }
 ],
 "metadata": {
  "kernelspec": {
   "display_name": "Python 3",
   "language": "python",
   "name": "python3"
  },
  "language_info": {
   "codemirror_mode": {
    "name": "ipython",
    "version": 3
   },
   "file_extension": ".py",
   "mimetype": "text/x-python",
   "name": "python",
   "nbconvert_exporter": "python",
   "pygments_lexer": "ipython3",
   "version": "3.8.3"
  }
 },
 "nbformat": 4,
 "nbformat_minor": 4
}
