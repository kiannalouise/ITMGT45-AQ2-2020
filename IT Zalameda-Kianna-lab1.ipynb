{
 "cells": [
  {
   "cell_type": "markdown",
   "metadata": {},
   "source": [
    "### Student Details\n",
    "1. 195448\n",
    "2. Zalameda\n",
    "3. 2 BS ITE"
   ]
  },
  {
   "cell_type": "code",
   "execution_count": 11,
   "metadata": {},
   "outputs": [
    {
     "name": "stdout",
     "output_type": "stream",
     "text": [
      "Enter the amount in US Dollars 2\n",
      "Conversion in Philippine Peso Php 100.0\n"
     ]
    }
   ],
   "source": [
    "def dollars_to_pesos(dollar):\n",
    "    php = dollar * 50\n",
    "    return php\n",
    "\n",
    "# Define Dollar\n",
    "dollar = float(input(\"Enter the amount in US Dollars \"))\n",
    "\n",
    "# Compute for Php\n",
    "php = dollars_to_pesos(dollar)\n",
    "\n",
    "# Display Amount\n",
    "print(\"Conversion in Philippine Peso Php\", php)"
   ]
  },
  {
   "cell_type": "code",
   "execution_count": 14,
   "metadata": {},
   "outputs": [
    {
     "name": "stdout",
     "output_type": "stream",
     "text": [
      "Enter first number here 55\n",
      "Enter second number here 3\n",
      "Sum of a and b 58.0\n",
      "Difference of a and b 52.0\n",
      "Product of a and b 165.0\n",
      "Quotient of a and b 18.0\n",
      "Remainder of a / b 1.0\n"
     ]
    }
   ],
   "source": [
    "def compute_sum(a,b):\n",
    "    addition = a + b \n",
    "    return addition\n",
    "\n",
    "def compute_difference(a,b):\n",
    "    subtraction = a - b \n",
    "    return subtraction\n",
    "\n",
    "def compute_product(a,b):\n",
    "    multiplication = a * b \n",
    "    return multiplication\n",
    "\n",
    "def compute_quotient(a,b):\n",
    "    division = a // b \n",
    "    return division\n",
    "\n",
    "def compute_remainder(a,b):\n",
    "    remainder = a % b \n",
    "    return remainder\n",
    "\n",
    "# Define a and b\n",
    "a = float(input(\"Enter first number here \"))\n",
    "b = float(input(\"Enter second number here \"))\n",
    "\n",
    "# Addition of a and b\n",
    "addition = compute_sum(a,b)\n",
    "\n",
    "# Subctractiion of a and b\n",
    "subtraction = compute_difference(a,b)\n",
    "\n",
    "# Multiplication of a and b\n",
    "multiplication = compute_product(a,b)\n",
    "\n",
    "# Division of a and b excluding remainder\n",
    "division = compute_quotient(a,b)\n",
    "\n",
    "# Remainder of a and b when divided\n",
    "remainder = compute_remainder(a,b)\n",
    "\n",
    "# Display Amount\n",
    "print(\"Sum of a and b\", addition)\n",
    "print(\"Difference of a and b\", subtraction)\n",
    "print(\"Product of a and b\", multiplication)\n",
    "print(\"Quotient of a and b\", division)\n",
    "print(\"Remainder of a / b\", remainder)"
   ]
  },
  {
   "cell_type": "code",
   "execution_count": 17,
   "metadata": {},
   "outputs": [
    {
     "name": "stdout",
     "output_type": "stream",
     "text": [
      "Enter kg: 67\n",
      "Enter cm: 178\n",
      "BMI:  21.146319909102385\n"
     ]
    }
   ],
   "source": [
    "def convert_cm_to_m(kg,cm):\n",
    "    m = cm/100\n",
    "    return m\n",
    "\n",
    "def compute_mm(kg,cm):\n",
    "    mm = m**2\n",
    "    return mm\n",
    "\n",
    "def compute_bmi(kg,cm):\n",
    "    BMI = kg/mm\n",
    "    return BMI\n",
    "\n",
    "# Define kg and cm\n",
    "kg = float(input(\"Enter kg: \"))\n",
    "cm = float(input(\"Enter cm: \"))\n",
    "\n",
    "# Convert cm to m\n",
    "m = convert_cm_to_m(kg,cm)\n",
    "\n",
    "# Compute for m^2\n",
    "mm = compute_mm(kg,cm)\n",
    "\n",
    "# Compute for BMI\n",
    "BMI = compute_bmi(kg,cm)\n",
    "\n",
    "# Display BMI\n",
    "print(\"BMI: \", BMI)"
   ]
  }
 ],
 "metadata": {
  "kernelspec": {
   "display_name": "Python 3",
   "language": "python",
   "name": "python3"
  },
  "language_info": {
   "codemirror_mode": {
    "name": "ipython",
    "version": 3
   },
   "file_extension": ".py",
   "mimetype": "text/x-python",
   "name": "python",
   "nbconvert_exporter": "python",
   "pygments_lexer": "ipython3",
   "version": "3.8.3"
  }
 },
 "nbformat": 4,
 "nbformat_minor": 4
}
